{
 "cells": [
  {
   "cell_type": "markdown",
   "id": "7c80883a",
   "metadata": {
    "collapsed": false
   },
   "source": [
    "# Threshold Calibration with counter mode"
   ]
  },
  {
   "cell_type": "markdown",
   "id": "3157fa04",
   "metadata": {
    "collapsed": false
   },
   "source": [
    "In this notebook we obtain the ASICs threshold calibrations using the counter mode.  "
   ]
  },
  {
   "cell_type": "markdown",
   "id": "d146685a",
   "metadata": {
    "collapsed": false
   },
   "source": [
    "With threshold vth_t1 we cut the existent noise when the breakdown voltage is applied and with threshold vth_t2 we limit the activity when we apply the operating voltage"
   ]
  },
  {
   "cell_type": "code",
   "execution_count": null,
   "id": "3447975d",
   "metadata": {
    "collapsed": false
   },
   "outputs": [],
   "source": [
    "import matplotlib.pylab as plt\n",
    "import pandas           as pd\n",
    "import tables           as tb\n",
    "import numpy            as np\n",
    "import warnings\n",
    "warnings.filterwarnings(\"ignore\")\n",
    "\n",
    "from matplotlib.dates import MINUTELY, SECONDLY\n",
    "from matplotlib.dates import DateFormatter\n",
    "from matplotlib.dates import rrulewrapper\n",
    "from matplotlib.dates import RRuleLocator\n",
    "\n",
    "from glob             import glob\n",
    "from datetime         import datetime\n",
    "from sklearn.cluster  import KMeans\n",
    "from scipy.optimize   import curve_fit"
   ]
  },
  {
   "cell_type": "code",
   "execution_count": null,
   "id": "4e6615b2",
   "metadata": {
    "collapsed": false
   },
   "outputs": [],
   "source": [
    "import sys \n",
    "sys.path.append(\"/home/nsalor/Software/ANTEA\")\n",
    "sys.path.append(\"/home/nsalor/Software/IC\")"
   ]
  },
  {
   "cell_type": "code",
   "execution_count": null,
   "id": "a4a9c691",
   "metadata": {
    "collapsed": false
   },
   "outputs": [],
   "source": [
    "from antea.preproc.io                    import get_files\n",
    "from antea.preproc.io                    import get_evt_times\n",
    "from antea.preproc.threshold_calibration import get_run_control\n",
    "from antea.preproc.threshold_calibration import compute_limit_evts_based_on_run_control\n",
    "from antea.preproc.threshold_calibration import filter_df_evts\n",
    "from antea.preproc.threshold_calibration import process_df\n",
    "from antea.preproc.threshold_calibration import compute_max_counter_value_for_each_config\n",
    "from antea.preproc.threshold_calibration import plot_evts_recorded_per_configuration\n",
    "from antea.preproc.threshold_calibration import plot_time_distribution\n",
    "from antea.preproc.threshold_calibration import plot_channels\n",
    "from antea.preproc.threshold_calibration import process_run\n",
    "from antea.preproc.threshold_calibration import find_threshold"
   ]
  },
  {
   "cell_type": "markdown",
   "id": "599d793c",
   "metadata": {
    "collapsed": false
   },
   "source": [
    "**Data to analyze**"
   ]
  },
  {
   "cell_type": "code",
   "execution_count": null,
   "id": "e215e094",
   "metadata": {
    "collapsed": false
   },
   "outputs": [],
   "source": [
    "field      = 'vth_t1'   # It depends on the threshold we are calibrating: vth_t1 or vth_t2\n",
    "run_number = 12743\n",
    "tofpet_id  = 2\n",
    "\n",
    "channels   = list(range(64))\n",
    "nbits      = 22"
   ]
  },
  {
   "cell_type": "code",
   "execution_count": null,
   "id": "fea5cd36",
   "metadata": {
    "collapsed": false
   },
   "outputs": [],
   "source": [
    "df_data = pd.read_hdf(get_files(run_number, folder = '/analysis/{run}/hdf5/data/')[0], 'counter')\n",
    "df_data"
   ]
  },
  {
   "cell_type": "code",
   "execution_count": null,
   "id": "587343ad",
   "metadata": {
    "collapsed": false
   },
   "outputs": [],
   "source": [
    "df_data.tofpet_id.unique()"
   ]
  },
  {
   "cell_type": "markdown",
   "id": "d3e1dffc",
   "metadata": {
    "collapsed": false
   },
   "source": [
    "We use both plots shown below to verify if the data collection process has gone fine.\n"
   ]
  },
  {
   "cell_type": "markdown",
   "id": "ecbe65ee",
   "metadata": {
    "collapsed": false
   },
   "source": [
    "In the first plot we show the data entries in time. There isn't a fixed number of entries, as it depends on\n",
    "the configuration we use, that's why there isn't a scale. In this plot we expect to see an uniform distribution in time."
   ]
  },
  {
   "cell_type": "markdown",
   "id": "c701e84a",
   "metadata": {
    "collapsed": false
   },
   "source": [
    "In the second plot, we represent the number of DATE events per configuration, which changes in 1ms aprox and the number of TOFPET events per configuration, which are the real events recorded. We expect to see in both the same distribution with a proportional factor between them, as they mean the same."
   ]
  },
  {
   "cell_type": "code",
   "execution_count": null,
   "id": "3fdb1e4f",
   "metadata": {
    "collapsed": false
   },
   "outputs": [],
   "source": [
    "df_counts = process_run(run_number, nbits, field, tofpet_id, channels, plot=True, folder = '/analysis/{run}/hdf5/data/')"
   ]
  },
  {
   "cell_type": "code",
   "execution_count": null,
   "id": "6fb78dab",
   "metadata": {
    "collapsed": false
   },
   "outputs": [],
   "source": [
    "df_counts"
   ]
  },
  {
   "cell_type": "markdown",
   "id": "a48f5a0b",
   "metadata": {
    "collapsed": false
   },
   "source": [
    "**Add columns with data_time and expected_rate for vth_t2**"
   ]
  },
  {
   "cell_type": "markdown",
   "id": "a31e7d95",
   "metadata": {
    "collapsed": false
   },
   "source": [
    "To calculate the expected rate for each vth_t2, we need to know the total time that has passed to take the measurement. "
   ]
  },
  {
   "cell_type": "markdown",
   "id": "ac8d78ff",
   "metadata": {
    "collapsed": false
   },
   "source": [
    "This time is calculated knowing that each count in the column \"count\" is the counter period assigned to the ASIC, in our case\n",
    "2²² clock cycle and each cycle is 5ns."
   ]
  },
  {
   "cell_type": "markdown",
   "id": "a3f291fb",
   "metadata": {
    "collapsed": false
   },
   "source": [
    "Then, the expected rate is calculated as the sum of all counts received divided by the calculated time."
   ]
  },
  {
   "cell_type": "code",
   "execution_count": null,
   "id": "7c4bb793",
   "metadata": {
    "collapsed": false
   },
   "outputs": [],
   "source": [
    "df_counts['data_time']     = (2**22 * 5) / 1e9 * df_counts['count']\n",
    "df_counts['expected_rate'] = df_counts['sum'] / df_counts['data_time']"
   ]
  },
  {
   "cell_type": "code",
   "execution_count": null,
   "id": "bc865318",
   "metadata": {
    "collapsed": false
   },
   "outputs": [],
   "source": [
    "# Example of the dataframe produced with the lines above\n",
    "\n",
    "df_counts[(df_counts['channel_id'] == 60)][0:15]"
   ]
  },
  {
   "cell_type": "markdown",
   "id": "72f0221b",
   "metadata": {
    "collapsed": false
   },
   "source": [
    "In the plots below we show the maximum counts read for each vth_t vs the vth_t that we are calibrating for each channel."
   ]
  },
  {
   "cell_type": "markdown",
   "id": "93e2afaa",
   "metadata": {
    "collapsed": false
   },
   "source": [
    "The parameter vth_t is always between 0 and 63. We show first an example:"
   ]
  },
  {
   "cell_type": "code",
   "execution_count": null,
   "id": "9e5e0ad8",
   "metadata": {
    "collapsed": false
   },
   "outputs": [],
   "source": [
    "plt.figure(figsize = (10, 5))\n",
    "plt.plot(df_counts[df_counts['channel_id'] == 0][field].values, df_counts[df_counts['channel_id'] == 0]['max'].values)\n",
    "plt.xlabel(field)\n",
    "plt.ylabel('Entries')"
   ]
  },
  {
   "cell_type": "code",
   "execution_count": null,
   "id": "94b98e98",
   "metadata": {
    "collapsed": false
   },
   "outputs": [],
   "source": [
    "plot_channels(df_counts, channels, nbits)"
   ]
  },
  {
   "cell_type": "markdown",
   "id": "13996e09",
   "metadata": {
    "collapsed": false
   },
   "source": [
    "# Compare several runs"
   ]
  },
  {
   "cell_type": "markdown",
   "id": "01ce777e",
   "metadata": {
    "collapsed": false
   },
   "source": [
    "To compare runs, they must always be from the same ASIC and same vth_t."
   ]
  },
  {
   "cell_type": "code",
   "execution_count": null,
   "id": "6f446daa",
   "metadata": {
    "collapsed": false
   },
   "outputs": [],
   "source": [
    "runs       = {'nbits' : 22, 'asic' : 0, 'run_number' : [11808, 11956]}\n",
    "field_comp = 'vth_t1'"
   ]
  },
  {
   "cell_type": "code",
   "execution_count": null,
   "id": "e60b6b12",
   "metadata": {
    "collapsed": false
   },
   "outputs": [],
   "source": [
    "channels = list(range(64))"
   ]
  },
  {
   "cell_type": "code",
   "execution_count": null,
   "id": "dde03cd9",
   "metadata": {
    "collapsed": false
   },
   "outputs": [],
   "source": [
    "def compare_runs(runs, field_comp, channels):\n",
    "    dfs = []\n",
    "    for run in runs['run_number']:\n",
    "        df = process_run(run, runs['nbits'], field_comp, runs['asic'], channels, plot = True)\n",
    "        dfs.append(df)\n",
    "    return dfs"
   ]
  },
  {
   "cell_type": "code",
   "execution_count": null,
   "id": "f0dbf223",
   "metadata": {
    "collapsed": false
   },
   "outputs": [],
   "source": [
    "def plot_channels_multiple_runs(dfs, runs_dict, channels, title='', fname=None):\n",
    "    '''\n",
    "    It plots the channel count from different runs in the same subplot so that it is easier to compare them.\n",
    "    '''\n",
    "    runs = runs_dict['run_number']\n",
    "    nbits = runs_dict['nbits']\n",
    "    rows = int(len(channels)/8)\n",
    "    \n",
    "    #Plot size for different number of channels available\n",
    "    if len(channels) == 64:\n",
    "        fig, ax = plt.subplots(figsize=(40,34))\n",
    "    \n",
    "    elif len(channels) == 48:\n",
    "        fig, ax = plt.subplots(figsize=(40,26))\n",
    "        \n",
    "    elif len(channels) == 32:\n",
    "        fig, ax = plt.subplots(figsize=(40,17))    \n",
    "        \n",
    "    elif len(channels) == 16:\n",
    "        fig, ax = plt.subplots(figsize=(40,8))    \n",
    "    \n",
    "    colors = iter(['red', 'blue', 'orange', 'green', 'brown', 'yellow'])\n",
    "    \n",
    "    for df_counts, run in zip(dfs, runs):\n",
    "        color = next(colors)\n",
    "        for i, ch in enumerate(channels):\n",
    "            values = df_counts[df_counts.channel_id == ch]['max'].values\n",
    "            ax     = plt.subplot(rows, 8, i+1)\n",
    "            ymax   = (2**nbits)\n",
    "            \n",
    "            plt.plot(values, drawstyle='steps', linewidth=3, color=color, alpha=0.5, label=run)\n",
    "            plt.ylim(0, 1.1*ymax)\n",
    "            plt.text(5, 0.5*ymax, f\"ch: {ch}\", horizontalalignment='center', verticalalignment='center', rotation=0, fontsize=13)\n",
    "            \n",
    "            max_label = '2^{{{}}}'.format(nbits)\n",
    "            ax.set_yticks([0, 2**nbits])\n",
    "            ax.set_yticklabels(['$0$', f'${max_label}$'])\n",
    "            plt.setp(ax.get_yticklabels(), fontsize=14)\n",
    "            \n",
    "            if i in [0, 1, 2, 8, 9, 10, 16, 17, 18]:\n",
    "                plt.setp(ax.get_xticklabels(), fontsize=18)\n",
    "            else:\n",
    "                plt.setp(ax.get_xticklabels(), visible=False)\n",
    "    \n",
    "    handles, labels = ax.get_legend_handles_labels()\n",
    "    plt.legend(bbox_to_anchor=(1.5, rows + 1.3))\n",
    "    plt.suptitle(title)\n",
    "    fig.tight_layout()\n",
    "    \n",
    "    if fname:\n",
    "        plt.savefig(fname)"
   ]
  },
  {
   "cell_type": "code",
   "execution_count": null,
   "id": "c8ac766d",
   "metadata": {
    "collapsed": false
   },
   "outputs": [],
   "source": [
    "dfs = compare_runs(runs, field_comp, channels)"
   ]
  },
  {
   "cell_type": "code",
   "execution_count": null,
   "id": "0bad4ce4",
   "metadata": {
    "collapsed": false
   },
   "outputs": [],
   "source": [
    "dfs"
   ]
  },
  {
   "cell_type": "markdown",
   "id": "dd9018a8",
   "metadata": {
    "collapsed": false
   },
   "source": [
    "**Add columns with data_time and expected_rate for vth_t2**"
   ]
  },
  {
   "cell_type": "code",
   "execution_count": null,
   "id": "838123b0",
   "metadata": {
    "collapsed": false
   },
   "outputs": [],
   "source": [
    "dfs[0]['data_time'] = (2**22 * 5) / 1e9 * dfs[0]['count']\n",
    "dfs[0]['expected_rate'] = dfs[0]['sum'] / dfs[0]['data_time']\n",
    "\n",
    "dfs[1]['data_time'] = (2**22 * 5) / 1e9 * dfs[1]['count']\n",
    "dfs[1]['expected_rate'] = dfs[1]['sum'] / dfs[1]['data_time']"
   ]
  },
  {
   "cell_type": "markdown",
   "id": "7ceb584c",
   "metadata": {
    "collapsed": false
   },
   "source": [
    "As above, we represent the maximum counts read for each vth_t vs the vth_t that we are calibrating for each channel, and for two different runs."
   ]
  },
  {
   "cell_type": "code",
   "execution_count": null,
   "id": "69f14f6f",
   "metadata": {
    "collapsed": false
   },
   "outputs": [],
   "source": [
    "plt.figure(figsize = (10, 5))\n",
    "plt.plot(dfs[0][dfs[0]['channel_id'] == 0][field].values, dfs[0][dfs[0]['channel_id'] == 0]['max'].values, label = runs['run_number'][0])\n",
    "plt.plot(dfs[1][dfs[1]['channel_id'] == 0][field].values, dfs[1][dfs[1]['channel_id'] == 0]['max'].values, label = runs['run_number'][1])\n",
    "plt.xlabel(field)\n",
    "plt.ylabel('Entries')\n",
    "plt.legend(fontsize = 12)"
   ]
  },
  {
   "cell_type": "code",
   "execution_count": null,
   "id": "98cfcdd0",
   "metadata": {
    "collapsed": false
   },
   "outputs": [],
   "source": [
    "plot_channels_multiple_runs(dfs, runs, channels, title=\"T1 threshold with 22-bit counter\")"
   ]
  },
  {
   "cell_type": "markdown",
   "id": "c4bc4d18",
   "metadata": {
    "collapsed": false
   },
   "source": [
    "# Find threshold vth_t1 and vth_t2"
   ]
  },
  {
   "cell_type": "code",
   "execution_count": null,
   "id": "5ab3122c",
   "metadata": {
    "collapsed": false
   },
   "outputs": [],
   "source": [
    "vth_t = find_threshold(df_counts, nbits, field, 20) # if field = vth_t2, 4th argument (activity) is needed in Hz\n",
    "vth_t"
   ]
  },
  {
   "cell_type": "markdown",
   "id": "cddea31d",
   "metadata": {
    "collapsed": false
   },
   "source": [
    "**Dictionary for data acquisition program:**"
   ]
  },
  {
   "cell_type": "code",
   "execution_count": null,
   "id": "ebdca077",
   "metadata": {
    "collapsed": false
   },
   "outputs": [],
   "source": [
    "ts = {}\n",
    "\n",
    "for i in range(64):\n",
    "    \n",
    "        ts[i]= int(vth_t[i])\n",
    "ts"
   ]
  },
  {
   "cell_type": "code",
   "execution_count": null,
   "id": "f30e8c34",
   "metadata": {
    "collapsed": false
   },
   "outputs": [],
   "source": []
  }
 ],
 "metadata": {
  "kernelspec": {
   "display_name": "Python 3",
   "language": "python",
   "name": "python3"
  },
  "language_info": {
   "codemirror_mode": {
    "name": "ipython",
    "version": 3
   },
   "file_extension": ".py",
   "mimetype": "text/x-python",
   "name": "python",
   "nbconvert_exporter": "python",
   "pygments_lexer": "ipython3",
   "version": "3.8.5"
  }
 },
 "nbformat": 4,
 "nbformat_minor": 5
}
