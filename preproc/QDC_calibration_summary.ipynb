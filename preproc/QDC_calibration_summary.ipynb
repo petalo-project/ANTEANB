{
 "cells": [
  {
   "cell_type": "markdown",
   "id": "4e3ebb30",
   "metadata": {
    "collapsed": false
   },
   "source": [
    "# QDC CALIBRATION"
   ]
  },
  {
   "cell_type": "markdown",
   "id": "92046c06",
   "metadata": {
    "collapsed": false
   },
   "source": [
    "In this notebook we obtain the ASICs qdc calibration using the tpulse."
   ]
  },
  {
   "cell_type": "markdown",
   "id": "5aded99c",
   "metadata": {
    "collapsed": false
   },
   "source": [
    "We obtain a curve efine vs integration window, so that when taking real data we can correct the efine obtained for any integration window."
   ]
  },
  {
   "cell_type": "code",
   "execution_count": null,
   "id": "12bdecbc",
   "metadata": {
    "collapsed": false
   },
   "outputs": [],
   "source": [
    "import pandas as pd\n",
    "import numpy as np\n",
    "from glob import glob\n",
    "import matplotlib.pylab as plt\n",
    "%matplotlib inline\n",
    "import os"
   ]
  },
  {
   "cell_type": "code",
   "execution_count": null,
   "id": "e3c60446",
   "metadata": {
    "collapsed": false
   },
   "outputs": [],
   "source": [
    "import sys \n",
    "sys.path.append(\"/home/nsalor/Software/ANTEA\")"
   ]
  },
  {
   "cell_type": "code",
   "execution_count": null,
   "id": "65be08a8",
   "metadata": {
    "collapsed": false
   },
   "outputs": [],
   "source": [
    "from antea.preproc.io              import get_files\n",
    "from antea.preproc.io              import read_run_data\n",
    "from antea.preproc.tdc_corrections import compute_integration_window_size\n",
    "from antea.preproc.qdc_corrections import correct_efine_wrap_around\n",
    "from antea.preproc.qdc_calibration import compute_qdc_calibration_using_mode\n",
    "from antea.preproc.qdc_calibration import plot_all_channels\n",
    "from antea.preproc.qdc_calibration import process_qdc_calibration_run"
   ]
  },
  {
   "cell_type": "markdown",
   "id": "b71e0348",
   "metadata": {
    "collapsed": false
   },
   "source": [
    "# Process data"
   ]
  },
  {
   "cell_type": "code",
   "execution_count": null,
   "id": "fca20fda",
   "metadata": {
    "collapsed": false
   },
   "outputs": [],
   "source": [
    "run_number = 12384"
   ]
  },
  {
   "cell_type": "code",
   "execution_count": null,
   "id": "aa745e40",
   "metadata": {
    "collapsed": false
   },
   "outputs": [],
   "source": [
    "pd.read_hdf('/analysis/12384/hdf5/data/run_12384_0000_trigger1_waveforms.h5', 'data', stop = 10000)"
   ]
  },
  {
   "cell_type": "markdown",
   "id": "fce10161",
   "metadata": {
    "collapsed": false
   },
   "source": [
    "The function below shows two plots. The first one shows the entries for each channel. The second one the entries for each integration window."
   ]
  },
  {
   "cell_type": "code",
   "execution_count": null,
   "id": "f5ab4d03",
   "metadata": {
    "collapsed": false
   },
   "outputs": [],
   "source": [
    "df_qdc = process_qdc_calibration_run(run_number, max_intg_w = 416, hist = True, folder = '/analysis/{run}/hdf5/data/')"
   ]
  },
  {
   "cell_type": "code",
   "execution_count": null,
   "id": "27c3dcf5",
   "metadata": {
    "collapsed": false
   },
   "outputs": [],
   "source": [
    "df_qdc"
   ]
  },
  {
   "cell_type": "markdown",
   "id": "0e280552",
   "metadata": {
    "collapsed": false
   },
   "source": [
    "**Create the expected windows to filter wrong values**"
   ]
  },
  {
   "cell_type": "code",
   "execution_count": null,
   "id": "ea04e71a",
   "metadata": {
    "collapsed": false
   },
   "outputs": [],
   "source": [
    "expected_windows = np.concatenate([[0], np.arange(6, 416, 5), [2000]])\n",
    "expected_windows"
   ]
  },
  {
   "cell_type": "code",
   "execution_count": null,
   "id": "40af6fc1",
   "metadata": {
    "collapsed": false
   },
   "outputs": [],
   "source": [
    "df_filtered = df_qdc[df_qdc.intg_w.isin(expected_windows)]"
   ]
  },
  {
   "cell_type": "markdown",
   "id": "338f06dd",
   "metadata": {
    "collapsed": false
   },
   "source": [
    "**Check max and min integration window size for each channel and tac to avoid wrong interpolations**"
   ]
  },
  {
   "cell_type": "code",
   "execution_count": null,
   "id": "a2975c24",
   "metadata": {
    "collapsed": false
   },
   "outputs": [],
   "source": [
    "df_filtered.groupby(['channel_id', 'tac_id']).min().intg_w.unique()"
   ]
  },
  {
   "cell_type": "code",
   "execution_count": null,
   "id": "b8b2482d",
   "metadata": {
    "collapsed": false
   },
   "outputs": [],
   "source": [
    "df_filtered.groupby(['channel_id', 'tac_id']).max().intg_w.unique()"
   ]
  },
  {
   "cell_type": "markdown",
   "id": "2999c78f",
   "metadata": {
    "collapsed": false
   },
   "source": [
    "We show the efine vs integration window curves for all channels:"
   ]
  },
  {
   "cell_type": "code",
   "execution_count": null,
   "id": "25ff2b88",
   "metadata": {
    "collapsed": false
   },
   "outputs": [],
   "source": [
    "plot_all_channels(df_filtered, [0, 220])\n",
    "plt.xlabel('intg_w')\n",
    "plt.ylabel('efine')\n",
    "plt.grid()\n",
    "plt.xticks(np.linspace(0, 300, 21), rotation = 30)"
   ]
  },
  {
   "cell_type": "code",
   "execution_count": null,
   "id": "34d52899",
   "metadata": {
    "collapsed": false
   },
   "outputs": [],
   "source": [
    "df_ch7 = df_filtered[(df_filtered['channel_id'] == 7)]\n",
    "plt.plot(df_ch7[df_ch7['tac_id'] == 0].intg_w, df_ch7[df_ch7['tac_id'] == 0].efine, label = 'tac0')\n",
    "plt.plot(df_ch7[df_ch7['tac_id'] == 1].intg_w, df_ch7[df_ch7['tac_id'] == 1].efine, label = 'tac1')\n",
    "plt.plot(df_ch7[df_ch7['tac_id'] == 2].intg_w, df_ch7[df_ch7['tac_id'] == 2].efine, label = 'tac2')\n",
    "plt.plot(df_ch7[df_ch7['tac_id'] == 3].intg_w, df_ch7[df_ch7['tac_id'] == 3].efine, label = 'tac3')\n",
    "#plt.xlim(0, 300)\n",
    "\n",
    "plt.xlabel('intg_w')\n",
    "plt.ylabel('efine')\n",
    "plt.grid()"
   ]
  },
  {
   "cell_type": "markdown",
   "id": "c04237c8",
   "metadata": {
    "collapsed": false
   },
   "source": [
    "## **Save data in file**"
   ]
  },
  {
   "cell_type": "code",
   "execution_count": null,
   "id": "08ebb477",
   "metadata": {
    "collapsed": false
   },
   "outputs": [],
   "source": [
    "#df_filtered.to_hdf('qdc_calibration_cold_compressor_asic581_tofpet7_imirror25_version33_r12384.h5', 'data')"
   ]
  },
  {
   "cell_type": "code",
   "execution_count": null,
   "id": "0bd0f6bf",
   "metadata": {
    "collapsed": false
   },
   "outputs": [],
   "source": []
  }
 ],
 "metadata": {
  "kernelspec": {
   "display_name": "Python 3 (ipykernel)",
   "language": "python",
   "name": "python3"
  },
  "language_info": {
   "codemirror_mode": {
    "name": "ipython",
    "version": 3
   },
   "file_extension": ".py",
   "mimetype": "text/x-python",
   "name": "python",
   "nbconvert_exporter": "python",
   "pygments_lexer": "ipython3",
   "version": "3.9.7"
  }
 },
 "nbformat": 4,
 "nbformat_minor": 5
}
