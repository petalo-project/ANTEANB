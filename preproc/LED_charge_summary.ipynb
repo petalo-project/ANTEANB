{
 "cells": [
  {
   "cell_type": "markdown",
   "id": "bad187cd",
   "metadata": {
    "collapsed": false
   },
   "source": [
    "# TOFPET charge with LEDs"
   ]
  },
  {
   "cell_type": "markdown",
   "id": "42229d7e",
   "metadata": {
    "collapsed": false
   },
   "source": [
    "This notebook is an example of a TOFPET study when using LEDs."
   ]
  },
  {
   "cell_type": "markdown",
   "id": "429513d5",
   "metadata": {
    "collapsed": false
   },
   "source": [
    "We analyze the integration window and the efine corrected we obtain when a LED or LEDs are switched on depending on the channel position."
   ]
  },
  {
   "cell_type": "markdown",
   "id": "ed887475",
   "metadata": {
    "collapsed": false
   },
   "source": [
    "We also obtain some plots to show the light distribution in the SiPMs panel."
   ]
  },
  {
   "cell_type": "code",
   "execution_count": null,
   "id": "bf9f5600",
   "metadata": {
    "collapsed": false
   },
   "outputs": [],
   "source": [
    "import pandas as pd\n",
    "import numpy as np\n",
    "from glob import glob\n",
    "import matplotlib.pylab as plt\n",
    "from matplotlib import colors\n",
    "%matplotlib inline"
   ]
  },
  {
   "cell_type": "markdown",
   "id": "f89c241d",
   "metadata": {
    "collapsed": false
   },
   "source": [
    "# Process Data"
   ]
  },
  {
   "cell_type": "code",
   "execution_count": null,
   "id": "2f9f3758",
   "metadata": {
    "collapsed": false
   },
   "outputs": [],
   "source": [
    "files = glob('/analysis/11902/hdf5/proc/linear_interp/files/*h5')\n",
    "files.sort()\n",
    "files"
   ]
  },
  {
   "cell_type": "code",
   "execution_count": null,
   "id": "f856326d",
   "metadata": {
    "collapsed": false
   },
   "outputs": [],
   "source": [
    "store = pd.HDFStore(files[0], 'r')\n",
    "store.keys()"
   ]
  },
  {
   "cell_type": "code",
   "execution_count": null,
   "id": "e1bca59e",
   "metadata": {
    "collapsed": false
   },
   "outputs": [],
   "source": [
    "df = pd.read_hdf(files[0],'data_0')\n",
    "df"
   ]
  },
  {
   "cell_type": "markdown",
   "id": "1c3110df",
   "metadata": {
    "collapsed": false
   },
   "source": [
    "**Check tofpet_id, channels_id and integration window size**"
   ]
  },
  {
   "cell_type": "code",
   "execution_count": null,
   "id": "947fc481",
   "metadata": {
    "collapsed": false
   },
   "outputs": [],
   "source": [
    "df.tofpet_id.unique()"
   ]
  },
  {
   "cell_type": "code",
   "execution_count": null,
   "id": "098d4167",
   "metadata": {
    "collapsed": false
   },
   "outputs": [],
   "source": [
    "df.channel_id.hist(bins = 64)\n",
    "plt.title('Channels')\n",
    "plt.xlabel('channel_id')\n",
    "plt.ylabel('Entries')"
   ]
  },
  {
   "cell_type": "code",
   "execution_count": null,
   "id": "a4585a1f",
   "metadata": {
    "collapsed": false
   },
   "outputs": [],
   "source": [
    "df.intg_w.hist(bins = 100)\n",
    "plt.title('Integration window for all channels')\n",
    "plt.xlabel('Integration window')\n",
    "plt.ylabel('Entries')\n",
    "plt.yscale('log')\n",
    "\n",
    "intg_w_unique = df.intg_w.unique()\n",
    "intg_w_unique.sort()\n",
    "\n",
    "print('We have selected a fixed integration window of 80 cycles and there are ', \n",
    "      len(intg_w_unique), ' different integration windows: \\n', '\\n', intg_w_unique)"
   ]
  },
  {
   "cell_type": "markdown",
   "id": "29e79c0f",
   "metadata": {
    "collapsed": false
   },
   "source": [
    "# Studying all channels"
   ]
  },
  {
   "cell_type": "markdown",
   "id": "fc826069",
   "metadata": {
    "collapsed": false
   },
   "source": [
    "**Efine corrected for all channels**"
   ]
  },
  {
   "cell_type": "code",
   "execution_count": null,
   "id": "f345d05e",
   "metadata": {
    "collapsed": false
   },
   "outputs": [],
   "source": [
    "fig, (ax1, ax2) = plt.subplots(1, 2, figsize=(13,4))\n",
    "\n",
    "fig.suptitle('Efine corrected for all channels')\n",
    "ax1.hist(df.efine_corrected, bins = 100, label = 'log')\n",
    "ax1.set_yscale('log')\n",
    "ax1.set_xlabel('Efine corrected')\n",
    "ax1.set_ylabel('Entries')\n",
    "ax1.legend()\n",
    "\n",
    "ax2.hist(df.efine_corrected, bins = 100, label = 'linear')\n",
    "ax2.set_xlabel('Efine corrected')\n",
    "ax2.set_ylabel('Entries')\n",
    "ax2.legend()"
   ]
  },
  {
   "cell_type": "markdown",
   "id": "0968728c",
   "metadata": {
    "collapsed": false
   },
   "source": [
    "**Efine corrected for all channels selecting the fixed integration window size**"
   ]
  },
  {
   "cell_type": "code",
   "execution_count": null,
   "id": "be6044d5",
   "metadata": {
    "collapsed": false
   },
   "outputs": [],
   "source": [
    "df[(df['intg_w'] < 85) & (df['intg_w'] > 75)].efine_corrected.hist(bins = 100, alpha = 0.5,label = 'Correct intg_w')\n",
    "df[(df['intg_w'] > 85)].efine_corrected.hist(bins = 100, alpha = 0.5, label = 'Wrong intg_w')\n",
    "\n",
    "plt.yscale('log')\n",
    "plt.xlabel('Efine corrected')\n",
    "plt.ylabel('Entries')\n",
    "plt.legend()"
   ]
  },
  {
   "cell_type": "markdown",
   "id": "eebd90f3",
   "metadata": {
    "collapsed": false
   },
   "source": [
    "# Studying central channels"
   ]
  },
  {
   "cell_type": "markdown",
   "id": "6a951eef",
   "metadata": {
    "collapsed": false
   },
   "source": [
    "**Integration window for central channels**"
   ]
  },
  {
   "cell_type": "code",
   "execution_count": null,
   "id": "8a9ac8ec",
   "metadata": {
    "collapsed": false
   },
   "outputs": [],
   "source": [
    "df[df['channel_id'] == 31].intg_w.hist(bins = 100, label = 'channel 31', alpha = 0.5)\n",
    "df[df['channel_id'] ==  5].intg_w.hist(bins = 100, label = 'channel  5', alpha = 0.5)\n",
    "df[df['channel_id'] == 40].intg_w.hist(bins = 100, label = 'channel 40', alpha = 0.5)\n",
    "df[df['channel_id'] == 35].intg_w.hist(bins = 100, label = 'channel 35', alpha = 0.5)\n",
    "\n",
    "plt.legend()\n",
    "plt.title('Integration window for central channels')\n",
    "plt.xlabel('Integration window')\n",
    "plt.ylabel('Entries')\n",
    "plt.yscale('log')"
   ]
  },
  {
   "cell_type": "markdown",
   "id": "4cf5cb75",
   "metadata": {
    "collapsed": false
   },
   "source": [
    "**Efine corrected for central channels**"
   ]
  },
  {
   "cell_type": "code",
   "execution_count": null,
   "id": "2a7489b4",
   "metadata": {
    "collapsed": false
   },
   "outputs": [],
   "source": [
    "df[df['channel_id'] == 31].efine_corrected.hist(bins = 100, label = 'channel 31', alpha = 0.5)\n",
    "df[df['channel_id'] ==  5].efine_corrected.hist(bins = 100, label = 'channel  5', alpha = 0.5)\n",
    "df[df['channel_id'] == 40].efine_corrected.hist(bins =  80, label = 'channel 40', alpha = 0.5)\n",
    "df[df['channel_id'] == 35].efine_corrected.hist(bins =  40, label = 'channel 35', alpha = 0.5)\n",
    "\n",
    "plt.legend()\n",
    "plt.title('Efine corrected for central channels')\n",
    "plt.xlabel('Efine corrected')\n",
    "plt.ylabel('Entries')\n",
    "plt.yscale('log')"
   ]
  },
  {
   "cell_type": "markdown",
   "id": "2f283048",
   "metadata": {
    "collapsed": false
   },
   "source": [
    "# Studying corner channels"
   ]
  },
  {
   "cell_type": "markdown",
   "id": "c8058c35",
   "metadata": {
    "collapsed": false
   },
   "source": [
    "**Integration window for corner channels**"
   ]
  },
  {
   "cell_type": "code",
   "execution_count": null,
   "id": "196dfe7b",
   "metadata": {
    "collapsed": false
   },
   "outputs": [],
   "source": [
    "df[df['channel_id'] == 10].intg_w.hist(bins = 100, label = 'top-left 10', alpha = 0.5)\n",
    "df[df['channel_id'] == 24].intg_w.hist(bins = 200, label = 'top-right 24', alpha = 0.5)\n",
    "df[df['channel_id'] == 51].intg_w.hist(bins = 100, label = 'bottom-left 51', alpha = 0.5)\n",
    "df[df['channel_id'] == 56].intg_w.hist(bins = 100, label = 'bottom-right 56', alpha = 0.5)\n",
    "\n",
    "plt.title('Integration window size for corner channels')\n",
    "plt.xlabel('Integration window')\n",
    "plt.ylabel('Entries')\n",
    "plt.yscale('log')\n",
    "plt.legend()"
   ]
  },
  {
   "cell_type": "markdown",
   "id": "ac51c333",
   "metadata": {
    "collapsed": false
   },
   "source": [
    "**Efine corrected for corner channels**"
   ]
  },
  {
   "cell_type": "code",
   "execution_count": null,
   "id": "b6bb90db",
   "metadata": {
    "collapsed": false
   },
   "outputs": [],
   "source": [
    "df[df['channel_id'] == 10].efine_corrected.hist(bins = 200, label = 'top-left 10', alpha = 0.5)\n",
    "df[df['channel_id'] == 24].efine_corrected.hist(bins = 100, label = 'top-right 24', alpha = 0.5)\n",
    "df[df['channel_id'] == 51].efine_corrected.hist(bins =  50, label = 'bottom-left 51', alpha = 0.5)\n",
    "df[df['channel_id'] == 56].efine_corrected.hist(bins = 100, label = 'bottom-right 56', alpha = 0.5)\n",
    "\n",
    "plt.title('Efine corrected for corner channels')\n",
    "plt.xlabel('Efine corrected')\n",
    "plt.ylabel('Entries')\n",
    "plt.yscale('log')\n",
    "plt.legend()"
   ]
  },
  {
   "cell_type": "markdown",
   "id": "1a282a2e",
   "metadata": {
    "collapsed": false
   },
   "source": [
    "# **Efine corrected colour map**"
   ]
  },
  {
   "cell_type": "code",
   "execution_count": null,
   "id": "17d60edc",
   "metadata": {
    "collapsed": false
   },
   "outputs": [],
   "source": [
    "df_filtered = df[(df['intg_w'] > 75) & (df['intg_w'] < 85)]\n",
    "print('Number of sensors: ',len(df_filtered.sensor_id.unique()))"
   ]
  },
  {
   "cell_type": "code",
   "execution_count": null,
   "id": "63333b42",
   "metadata": {
    "collapsed": false
   },
   "outputs": [],
   "source": [
    "plt.hist(df_filtered[df_filtered['channel_id'] == 34].efine_corrected, bins = 50)\n",
    "plt.xlabel('Efine corrected')\n",
    "plt.ylabel('Entries')\n",
    "plt.title('Efine corrected for channel 34')"
   ]
  },
  {
   "cell_type": "code",
   "execution_count": null,
   "id": "c08993eb",
   "metadata": {
    "collapsed": false
   },
   "outputs": [],
   "source": [
    "def filtered_mean(df):\n",
    "    '''In each channel we have got two well differentiated \n",
    "    distributions. With this function, we filter the gaussian\n",
    "    which is due to LED contribution only.'''\n",
    "    \n",
    "    mean_vector = 0\n",
    "    if df.mean() > 30:\n",
    "        mean_vector = df[df > 30].mean() #we select the gaussian on the right\n",
    "    elif df.mean() < 30:\n",
    "        mean_vector = df.mean() # we select all data\n",
    "        \n",
    "    return mean_vector\n",
    "        "
   ]
  },
  {
   "cell_type": "markdown",
   "id": "670a3ed9",
   "metadata": {
    "collapsed": false
   },
   "source": [
    "We obtain the charge mean for each channel and we create a matrix with the correct position:"
   ]
  },
  {
   "cell_type": "code",
   "execution_count": null,
   "id": "ab69b61e",
   "metadata": {
    "collapsed": false
   },
   "outputs": [],
   "source": [
    "channel_means = df_filtered.groupby('sensor_id')['efine_corrected'].apply(filtered_mean).reset_index()\n",
    "charge_mean   = np.array(channel_means['efine_corrected']).reshape(8,8)"
   ]
  },
  {
   "cell_type": "markdown",
   "id": "9ca66b30",
   "metadata": {
    "collapsed": false
   },
   "source": [
    "**Mean charge per channel**"
   ]
  },
  {
   "cell_type": "code",
   "execution_count": null,
   "id": "97583deb",
   "metadata": {
    "collapsed": false
   },
   "outputs": [],
   "source": [
    "fig, ax = plt.subplots(figsize=(10, 6))\n",
    "ax      = plt.imshow(charge_mean)\n",
    "\n",
    "cbar    = plt.colorbar()\n",
    "cbar.set_label('Mean charge (efine corrected)', fontsize = 14)\n",
    "\n",
    "plt.xlabel('Position sensor x', fontsize = 14)\n",
    "plt.xticks(np.arange(0, 8, 1))\n",
    "plt.ylabel('Position sensor y', fontsize = 14)\n",
    "plt.yticks(np.arange(0, 8, 1))\n",
    "\n",
    "plt.gca().xaxis.set_label_position('top')\n",
    "plt.gca().xaxis.tick_top()"
   ]
  },
  {
   "cell_type": "code",
   "execution_count": null,
   "id": "a6297b2a",
   "metadata": {
    "collapsed": false
   },
   "outputs": [],
   "source": []
  }
 ],
 "metadata": {
  "kernelspec": {
   "display_name": "Python 3",
   "language": "python",
   "name": "python3"
  },
  "language_info": {
   "codemirror_mode": {
    "name": "ipython",
    "version": 3
   },
   "file_extension": ".py",
   "mimetype": "text/x-python",
   "name": "python",
   "nbconvert_exporter": "python",
   "pygments_lexer": "ipython3",
   "version": "3.8.5"
  }
 },
 "nbformat": 4,
 "nbformat_minor": 5
}
